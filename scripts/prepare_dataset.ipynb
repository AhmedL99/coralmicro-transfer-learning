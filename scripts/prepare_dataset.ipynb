{
 "cells": [
  {
   "cell_type": "code",
   "execution_count": 1,
   "metadata": {},
   "outputs": [],
   "source": [
    "import albumentations as alb \n",
    "import os \n",
    "import pycocotools.coco as COCO"
   ]
  },
  {
   "cell_type": "code",
   "execution_count": null,
   "metadata": {},
   "outputs": [],
   "source": [
    "# Paths to the generated dataset\n",
    "IMAGES = \"../dataset/images\"\n",
    "ANNOTATIONS = \"../dataset/annotation\""
   ]
  },
  {
   "cell_type": "code",
   "execution_count": null,
   "metadata": {},
   "outputs": [],
   "source": [
    "# coco 2017 downloaded json file from source\n",
    "coco_2017_json = \"/home/ahmed/fiftyone/coco-2017/raw/instances_train2017.json\"\n",
    "coco = COCO(coco_2017_json)"
   ]
  },
  {
   "cell_type": "code",
   "execution_count": null,
   "metadata": {},
   "outputs": [],
   "source": [
    "target_class = 'person'\n",
    "cat_ids = coco.getCatIds(catNms=[target_class])\n",
    "if not cat_ids:\n",
    "    print(f\"Class '{target_class}' not found in the dataset.\")\n",
    "    exit(1)"
   ]
  }
 ],
 "metadata": {
  "kernelspec": {
   "display_name": "Python 3",
   "language": "python",
   "name": "python3"
  },
  "language_info": {
   "codemirror_mode": {
    "name": "ipython",
    "version": 3
   },
   "file_extension": ".py",
   "mimetype": "text/x-python",
   "name": "python",
   "nbconvert_exporter": "python",
   "pygments_lexer": "ipython3",
   "version": "3.10.12"
  }
 },
 "nbformat": 4,
 "nbformat_minor": 2
}
